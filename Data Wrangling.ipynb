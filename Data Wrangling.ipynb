{
 "cells": [
  {
   "cell_type": "markdown",
   "id": "665c71d8",
   "metadata": {},
   "source": [
    "## Data Wrangling\n",
    "Data Wrangling is the process of converting data from the initial format to a format that may be better for analysis."
   ]
  },
  {
   "cell_type": "code",
   "execution_count": null,
   "id": "c0fabeae",
   "metadata": {},
   "outputs": [],
   "source": [
    "import numpy as np\n",
    "import pandas as pd"
   ]
  },
  {
   "cell_type": "markdown",
   "id": "5167b191",
   "metadata": {},
   "source": [
    "## Importing Data and reading into a Pandas DataFrame\n"
   ]
  },
  {
   "cell_type": "code",
   "execution_count": null,
   "id": "0e41a1cb",
   "metadata": {},
   "outputs": [],
   "source": [
    "cols = ['symboling', 'normalized-loss', 'body-make', 'fuel-type', 'aspiration', 'num-of-doors', 'body-style', 'drive-wheels', 'engine-location', 'wheel-base', 'length', 'width', 'height', 'curb-weight', 'engine-type', 'no-of-cylinders', 'engine-size', 'fuel-system', 'bore', 'stroke', 'compression-ratio', 'hp', 'peak-rpm', 'city-mpg', 'highway-mpg', 'cost']\n",
    "df = pd.read_csv('Car_Data_set.txt', names=cols)\n"
   ]
  },
  {
   "cell_type": "code",
   "execution_count": null,
   "id": "9d7747c1",
   "metadata": {},
   "outputs": [],
   "source": [
    "df.shape\n"
   ]
  },
  {
   "cell_type": "code",
   "execution_count": null,
   "id": "60c1e499",
   "metadata": {},
   "outputs": [],
   "source": [
    "df.head()"
   ]
  },
  {
   "cell_type": "code",
   "execution_count": null,
   "id": "26c7477d",
   "metadata": {},
   "outputs": [],
   "source": [
    "df.tail()"
   ]
  },
  {
   "cell_type": "code",
   "execution_count": null,
   "id": "196021c2",
   "metadata": {},
   "outputs": [],
   "source": [
    "df.columns"
   ]
  },
  {
   "cell_type": "code",
   "execution_count": null,
   "id": "439dfc9c",
   "metadata": {},
   "outputs": [],
   "source": [
    "df.dtypes"
   ]
  },
  {
   "cell_type": "markdown",
   "id": "36653b71",
   "metadata": {},
   "source": [
    "As we can see, several question marks appeared in the dataframe; those are missing values which may hamper our further analysis.\n",
    "\n",
    "***Steps for working with missing data:***\n",
    "\n",
    "\n",
    "Find missing data\n",
    "\n",
    "Deal with missing data\n",
    "\n",
    "Precise data format\n"
   ]
  },
  {
   "cell_type": "markdown",
   "id": "8a17d89d",
   "metadata": {},
   "source": [
    "Identify and handle missing values\n",
    "Identify missing values\n",
    "Convert \"?\" to NaN\n",
    "\n",
    "In the car dataset, missing data comes with the question mark \"?\"."
   ]
  },
  {
   "cell_type": "code",
   "execution_count": null,
   "id": "57fdfd0d",
   "metadata": {},
   "outputs": [],
   "source": [
    "df = df.replace(\"?\", np.NaN)\n",
    "df.head()"
   ]
  },
  {
   "cell_type": "markdown",
   "id": "f06cebed",
   "metadata": {},
   "source": [
    "## Evaluating for Missing Data"
   ]
  },
  {
   "cell_type": "markdown",
   "id": "2973700f",
   "metadata": {},
   "source": [
    "We use Python's built-in functions to identify these missing values. There are two methods to detect missing data:\n",
    "\n",
    ".isnull()\n",
    "\n",
    ".notnull()\n",
    "\n",
    "The output is a boolean value indicating whether the value that is passed into the argument is in fact missing data."
   ]
  },
  {
   "cell_type": "code",
   "execution_count": null,
   "id": "29606dac",
   "metadata": {},
   "outputs": [],
   "source": [
    "df.isnull().any().any()"
   ]
  },
  {
   "cell_type": "markdown",
   "id": "a8dd7850",
   "metadata": {},
   "source": [
    "\"True\" stands for missing value, while \"False\" stands for not missing value."
   ]
  },
  {
   "cell_type": "markdown",
   "id": "df653e12",
   "metadata": {},
   "source": [
    "## Count missing values in each column"
   ]
  },
  {
   "cell_type": "code",
   "execution_count": null,
   "id": "0c7e8b38",
   "metadata": {},
   "outputs": [],
   "source": [
    "df.isnull().sum()"
   ]
  },
  {
   "cell_type": "markdown",
   "id": "15428917",
   "metadata": {},
   "source": [
    "## Based on the summary above, each column has 205 rows of data, seven columns containing missing data:\n",
    "\n",
    "\"normalized-loss\": 41 missing data\n",
    "\n",
    "\"num-of-doors\": 2 missing data\n",
    "\n",
    "\"bore\": 4 missing data\n",
    "\n",
    "\"stroke\" : 4 missing data\n",
    "\n",
    "\"horsepower\": 2 missing data\n",
    "\n",
    "\"peak-rpm\": 2 missing data\n",
    "\n",
    "\"price\": 4 missing data"
   ]
  },
  {
   "cell_type": "code",
   "execution_count": null,
   "id": "6d45bc32",
   "metadata": {},
   "outputs": [],
   "source": [
    "df.head(2)"
   ]
  },
  {
   "cell_type": "markdown",
   "id": "93afe34b",
   "metadata": {},
   "source": [
    "## Replace by mean:\n",
    "\n",
    "\"normalized-loss\": 41 missing data\n",
    "    \n",
    "\"stroke\": 4 missing data\n",
    "    \n",
    "\"bore\": 4 missing data\n",
    "    \n",
    "\"horsepower\": 2 missing data\n",
    "    \n",
    "\"peak-rpm\": 2 missing data"
   ]
  },
  {
   "cell_type": "markdown",
   "id": "4eea261d",
   "metadata": {},
   "source": [
    "***Calculate the average of the column***\n",
    "#converting object to float datat type"
   ]
  },
  {
   "cell_type": "code",
   "execution_count": null,
   "id": "d15503aa",
   "metadata": {},
   "outputs": [],
   "source": [
    "norm_loss_avg = df['normalized-loss'].astype(\"float\").mean()\n",
    "print(\"Average normalized-loss:\", norm_loss_avg)\n",
    "df[\"normalized-loss\"].replace(np.NaN, norm_loss_avg, inplace = True)\n",
    "df[\"normalized-loss\"]"
   ]
  },
  {
   "cell_type": "markdown",
   "id": "5822e963",
   "metadata": {},
   "source": [
    "Replace \"NaN\" by mean value in \"normalized-loss\" column"
   ]
  },
  {
   "cell_type": "code",
   "execution_count": null,
   "id": "4d112e9d",
   "metadata": {},
   "outputs": [],
   "source": [
    "avg_bore = df[\"bore\"].astype(\"float\").mean()\n",
    "print(\"Average bore:\", avg_bore)\n",
    "df[\"bore\"].replace(np.NaN, avg_bore, inplace = True)\n",
    "df['bore']"
   ]
  },
  {
   "cell_type": "code",
   "execution_count": null,
   "id": "d6850ca2",
   "metadata": {},
   "outputs": [],
   "source": [
    "avg_stroke = df[\"stroke\"].astype(\"float\").mean(axis = 0)\n",
    "print(\"Average stroke:\", avg_stroke)\n",
    "# replace NaN by mean value in \"stroke\" column\n",
    "df[\"stroke\"].replace(np.nan, avg_stroke, inplace = True)\n",
    "df[\"stroke\"]"
   ]
  },
  {
   "cell_type": "code",
   "execution_count": null,
   "id": "5793508f",
   "metadata": {},
   "outputs": [],
   "source": [
    "avg_horsepower = df['hp'].astype('float').mean(axis=0)\n",
    "print(\"Average horsepower:\", avg_horsepower)\n",
    "df['hp'].replace(np.nan, avg_horsepower, inplace=True)\n",
    "df['hp']"
   ]
  },
  {
   "cell_type": "code",
   "execution_count": null,
   "id": "135f621f",
   "metadata": {},
   "outputs": [],
   "source": [
    "avg_peakrpm= df['peak-rpm'].astype('float').mean(axis=0)\n",
    "print(\"Average peak rpm:\", avg_peakrpm)\n",
    "df['peak-rpm'].replace(np.nan, avg_peakrpm, inplace=True)\n",
    "df['peak-rpm']"
   ]
  },
  {
   "cell_type": "code",
   "execution_count": null,
   "id": "a080ac0c",
   "metadata": {},
   "outputs": [],
   "source": [
    "df.isnull().sum()"
   ]
  },
  {
   "cell_type": "markdown",
   "id": "7c4e74a4",
   "metadata": {},
   "source": [
    "## Replace by frequency:"
   ]
  },
  {
   "cell_type": "code",
   "execution_count": null,
   "id": "22da7b48",
   "metadata": {},
   "outputs": [],
   "source": [
    "df[\"num-of-doors\"].value_counts()"
   ]
  },
  {
   "cell_type": "markdown",
   "id": "826a8a87",
   "metadata": {},
   "source": [
    "\n",
    "\n",
    "\"num-of-doors\": 2 missing data, replace them with \"four\".\n",
    "Reason: 84% sedans is four doors. Since four doors is most frequent, it is most likely to occur\n",
    "Drop the whole row:\n",
    "\n"
   ]
  },
  {
   "cell_type": "code",
   "execution_count": null,
   "id": "7371d804",
   "metadata": {},
   "outputs": [],
   "source": [
    "#replace the missing 'num-of-doors' values by the most frequent \n",
    "df[\"num-of-doors\"].replace(np.nan, \"four\", inplace=True)\n",
    "df.head()"
   ]
  },
  {
   "cell_type": "markdown",
   "id": "5de85488",
   "metadata": {},
   "source": [
    "Finally, let's drop all rows that do not have price data"
   ]
  },
  {
   "cell_type": "markdown",
   "id": "404d4983",
   "metadata": {},
   "source": [
    "\"price\": 4 missing data, simply delete the whole row\n",
    "\n",
    "Reason: price is what we want to predict. Any data entry without price data cannot be used for prediction; therefore any row now without price data is not useful to us"
   ]
  },
  {
   "cell_type": "code",
   "execution_count": null,
   "id": "c7f74322",
   "metadata": {},
   "outputs": [],
   "source": [
    "# simply drop whole row with NaN in \"price\" column\n",
    "before_rows = df.shape[0]\n",
    "df.dropna(subset=[\"cost\"], axis=0, inplace=True)\n",
    "after_rows = df.shape[0]\n",
    "print(\"Number of dropped rows {}\".format(before_rows - after_rows))\n",
    "# reset index, because we droped two rows\n",
    "df.reset_index(drop=True, inplace=True)"
   ]
  },
  {
   "cell_type": "code",
   "execution_count": null,
   "id": "1f6e6ac4",
   "metadata": {},
   "outputs": [],
   "source": [
    "df.shape"
   ]
  },
  {
   "cell_type": "markdown",
   "id": "ab76403d",
   "metadata": {},
   "source": [
    "The last step in data cleaning is checking and making sure that all data is in the correct format (int, float, text or other).\n",
    "\n",
    "In Pandas, we use\n",
    "\n",
    ".dtypes to check the data type\n",
    "\n",
    ".astype() to change the data type"
   ]
  },
  {
   "cell_type": "code",
   "execution_count": null,
   "id": "d018c673",
   "metadata": {},
   "outputs": [],
   "source": [
    "df.dtypes"
   ]
  },
  {
   "cell_type": "code",
   "execution_count": null,
   "id": "f1a5cc0b",
   "metadata": {},
   "outputs": [],
   "source": [
    "df[[\"bore\", \"stroke\"]] = df[[\"bore\", \"stroke\"]].astype(\"float\")\n",
    "df[[\"normalized-loss\",\"hp\"]] = df[[\"normalized-loss\",\"hp\"]].astype(\"int\")\n",
    "df[[\"cost\"]] = df[[\"cost\"]].astype(\"float\")\n",
    "df[[\"peak-rpm\"]] = df[[\"peak-rpm\"]].astype(\"float\")\n",
    "df.head()"
   ]
  },
  {
   "cell_type": "code",
   "execution_count": null,
   "id": "1c6d6526",
   "metadata": {},
   "outputs": [],
   "source": [
    "df.dtypes"
   ]
  },
  {
   "cell_type": "markdown",
   "id": "768c175d",
   "metadata": {},
   "source": [
    "we finally obtain the cleaned dataset with no missing values and all data in its proper format."
   ]
  },
  {
   "cell_type": "markdown",
   "id": "7aa86697",
   "metadata": {},
   "source": [
    "## Data Standardization"
   ]
  },
  {
   "cell_type": "markdown",
   "id": "14c8c1e0",
   "metadata": {},
   "source": [
    "We will need to apply data transformation to transform mpg into L/100km?\n",
    "\n",
    "The formula for unit conversion is\n",
    "\n",
    "L/100km = 235 / mpg"
   ]
  },
  {
   "cell_type": "code",
   "execution_count": null,
   "id": "4e4107c2",
   "metadata": {},
   "outputs": [],
   "source": [
    "# transform mpg to L/100km by mathematical operation (235 divided by mpg)\n",
    "df[\"highway-mpg\"] = 235/df[\"highway-mpg\"]\n",
    "\n",
    "# rename column name from \"highway-mpg\" to \"highway-L/100km\"\n",
    "df.rename(columns = {'highway-mpg':'highway-L/100km'}, inplace=True)\n",
    "\n",
    "# check your transformed data \n",
    "df.head()"
   ]
  },
  {
   "cell_type": "markdown",
   "id": "e30015ba",
   "metadata": {},
   "source": [
    "## Data Normalization\n",
    "Typical normalizations include scaling the variable so the variable average is 0, scaling the variable so the variance is 1, or scaling variable so the variable values range from 0 to 1"
   ]
  },
  {
   "cell_type": "code",
   "execution_count": null,
   "id": "00bd19af",
   "metadata": {},
   "outputs": [],
   "source": [
    "df['length'],df['width'],df[\"height\"]"
   ]
  },
  {
   "cell_type": "code",
   "execution_count": null,
   "id": "1f638eca",
   "metadata": {},
   "outputs": [],
   "source": [
    "# replace (original value) by (original value)/(maximum value)\n",
    "df['length'] = df['length']/df['length'].max()\n",
    "df['width'] = df['width']/df['width'].max()# replace height with normalized values\n",
    "df[\"height\"] = df[\"height\"]/df[\"height\"].max()\n",
    "df.head()"
   ]
  },
  {
   "cell_type": "code",
   "execution_count": null,
   "id": "de7c7308",
   "metadata": {},
   "outputs": [],
   "source": [
    "df['length'],df['width'],df[\"height\"]"
   ]
  },
  {
   "cell_type": "markdown",
   "id": "d9d73d84",
   "metadata": {},
   "source": [
    "***Transforming continuous numerical variables into discrete categorical-Binning***"
   ]
  },
  {
   "cell_type": "code",
   "execution_count": null,
   "id": "8164260f",
   "metadata": {},
   "outputs": [],
   "source": [
    "%matplotlib inline\n",
    "import matplotlib.pyplot as plt\n",
    "plt.hist(df[\"hp\"])\n",
    "\n",
    "# set x/y labels and plot title\n",
    "plt.xlabel(\"hp\")\n",
    "plt.ylabel(\"count\")\n",
    "plt.title(\"horsepower bins\")"
   ]
  },
  {
   "cell_type": "markdown",
   "id": "05f88ff8",
   "metadata": {},
   "source": [
    "We would like 3 bins of equal size bandwidth so we use numpy's linspace(start_value, end_value, numbers_generated function.\n",
    "\n",
    "Since we want to include the minimum value of horsepower we want to set start_value=min(df[\"horsepower\"]).\n",
    "\n",
    "Since we want to include the maximum value of horsepower we want to set end_value=max(df[\"horsepower\"]).\n",
    "\n",
    "Since we are building 3 bins of equal length, there should be 4 dividers, so numbers_generated=4."
   ]
  },
  {
   "cell_type": "code",
   "execution_count": null,
   "id": "68fbbb27",
   "metadata": {},
   "outputs": [],
   "source": [
    "bins = np.linspace(min(df[\"hp\"]), max(df[\"hp\"]), 4)\n",
    "group_names = ['Low', 'Medium', 'High']\n",
    "df['horsepower-binned'] = pd.cut(df['hp'], bins, labels=group_names, include_lowest=True )\n",
    "df[['hp','horsepower-binned']]"
   ]
  },
  {
   "cell_type": "code",
   "execution_count": null,
   "id": "cb5df8eb",
   "metadata": {},
   "outputs": [],
   "source": [
    "df[\"horsepower-binned\"].value_counts()"
   ]
  },
  {
   "cell_type": "code",
   "execution_count": null,
   "id": "2d764d6d",
   "metadata": {},
   "outputs": [],
   "source": [
    "%matplotlib inline \n",
    "import matplotlib.pyplot as plt\n",
    "plt.bar(group_names, df[\"horsepower-binned\"].value_counts())\n",
    "\n",
    "# set x/y labels and plot title \n",
    "plt.xlabel('Horsepower')\n",
    "plt.ylabel(\"Count\")\n",
    "plt.title(\"Horsepower Bins\")"
   ]
  },
  {
   "cell_type": "markdown",
   "id": "7b2599e4",
   "metadata": {},
   "source": [
    "***Bins visualization***\n",
    "Normally, a histogram is used to visualize the distribution of bins we created above."
   ]
  },
  {
   "cell_type": "code",
   "execution_count": null,
   "id": "7ea4aea8",
   "metadata": {},
   "outputs": [],
   "source": [
    "%matplotlib inline\n",
    "import matplotlib.pyplot as plt\n",
    "\n",
    "a = (0, 1, 2)\n",
    "\n",
    "# draw histogram of attribute \n",
    "plt.hist(df[\"hp\"], bins = 3)\n",
    "\n",
    "# set x / y labels and plot title \n",
    "plt.xlabel(\"horsepower\")\n",
    "plt.ylabel(\"count\")\n",
    "plt.title(\"Horsepower Bins\")\n",
    "plt.show()"
   ]
  },
  {
   "cell_type": "markdown",
   "id": "8b5be425",
   "metadata": {},
   "source": [
    " Machine Learning model cannot deal with strings,hence (df_heart[\"Heart Disease\"]) categories needs to be convereted to numerical form."
   ]
  },
  {
   "cell_type": "code",
   "execution_count": null,
   "id": "d96a835d",
   "metadata": {},
   "outputs": [],
   "source": [
    "df[\"fuel-type\"].value_counts()"
   ]
  },
  {
   "cell_type": "code",
   "execution_count": null,
   "id": "471b8014",
   "metadata": {},
   "outputs": [],
   "source": [
    "from sklearn.preprocessing import LabelEncoder\n",
    "encoder = LabelEncoder()\n",
    "df[\"fuel-type\"] = encoder.fit_transform(df[\"fuel-type\"])\n",
    "df"
   ]
  },
  {
   "cell_type": "code",
   "execution_count": null,
   "id": "ffd0e7b5",
   "metadata": {},
   "outputs": [],
   "source": [
    "df[\"fuel-type\"].value_counts()"
   ]
  },
  {
   "cell_type": "markdown",
   "id": "2389ea63",
   "metadata": {},
   "source": [
    "1 ----->gas\n",
    "0------diesel"
   ]
  },
  {
   "cell_type": "code",
   "execution_count": null,
   "id": "630b9b91",
   "metadata": {},
   "outputs": [],
   "source": [
    "df[\"num-of-doors\"].value_counts()"
   ]
  },
  {
   "cell_type": "code",
   "execution_count": null,
   "id": "8a923ebc",
   "metadata": {},
   "outputs": [],
   "source": [
    "from sklearn.preprocessing import LabelEncoder\n",
    "encoder = LabelEncoder()\n",
    "df[\"num-of-doors\"] = encoder.fit_transform(df[\"num-of-doors\"])\n",
    "df"
   ]
  },
  {
   "cell_type": "code",
   "execution_count": null,
   "id": "7ec5613b",
   "metadata": {},
   "outputs": [],
   "source": [
    "df[\"num-of-doors\"].value_counts()"
   ]
  },
  {
   "cell_type": "markdown",
   "id": "9c5ec929",
   "metadata": {},
   "source": [
    "0---->four doors\n",
    "\n",
    "1---->two  doors"
   ]
  },
  {
   "cell_type": "code",
   "execution_count": null,
   "id": "1387a519",
   "metadata": {},
   "outputs": [],
   "source": [
    "df[\"aspiration\"].value_counts()"
   ]
  },
  {
   "cell_type": "code",
   "execution_count": null,
   "id": "16807ee7",
   "metadata": {},
   "outputs": [],
   "source": [
    "from sklearn.preprocessing import LabelEncoder\n",
    "encoder = LabelEncoder()\n",
    "df[\"aspiration\"] = encoder.fit_transform(df[\"aspiration\"])\n",
    "df"
   ]
  },
  {
   "cell_type": "code",
   "execution_count": null,
   "id": "1124d0ef",
   "metadata": {},
   "outputs": [],
   "source": [
    "df[\"aspiration\"].value_counts()"
   ]
  },
  {
   "cell_type": "markdown",
   "id": "a102d3b0",
   "metadata": {},
   "source": [
    "0--->std\n",
    "\n",
    "1--->turbo"
   ]
  },
  {
   "cell_type": "code",
   "execution_count": null,
   "id": "2b8f58fb",
   "metadata": {},
   "outputs": [],
   "source": [
    "df[\"engine-location\"].value_counts()"
   ]
  },
  {
   "cell_type": "code",
   "execution_count": null,
   "id": "767ebc6b",
   "metadata": {},
   "outputs": [],
   "source": [
    "from sklearn.preprocessing import LabelEncoder\n",
    "encoder = LabelEncoder()\n",
    "df[\"engine-location\"] = encoder.fit_transform(df[\"engine-location\"])\n",
    "df"
   ]
  },
  {
   "cell_type": "code",
   "execution_count": null,
   "id": "a3501dbd",
   "metadata": {},
   "outputs": [],
   "source": [
    "df[\"engine-location\"].value_counts()"
   ]
  },
  {
   "cell_type": "markdown",
   "id": "7993a114",
   "metadata": {},
   "source": [
    "0--->front\n",
    "\n",
    "1---->rear"
   ]
  },
  {
   "cell_type": "code",
   "execution_count": null,
   "id": "b8a44a82",
   "metadata": {},
   "outputs": [],
   "source": [
    "df.describe()"
   ]
  },
  {
   "cell_type": "code",
   "execution_count": null,
   "id": "bce474fe",
   "metadata": {},
   "outputs": [],
   "source": [
    "# Convert to CSV file\n",
    "df.to_csv('wrangled_df.csv')"
   ]
  }
 ],
 "metadata": {
  "kernelspec": {
   "display_name": "Python 3 (ipykernel)",
   "language": "python",
   "name": "python3"
  },
  "language_info": {
   "codemirror_mode": {
    "name": "ipython",
    "version": 3
   },
   "file_extension": ".py",
   "mimetype": "text/x-python",
   "name": "python",
   "nbconvert_exporter": "python",
   "pygments_lexer": "ipython3",
   "version": "3.9.13"
  }
 },
 "nbformat": 4,
 "nbformat_minor": 5
}
